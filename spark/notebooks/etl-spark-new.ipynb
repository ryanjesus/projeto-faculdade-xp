{
 "cells": [
  {
   "cell_type": "code",
   "execution_count": 6,
   "id": "0ccd7607-5c88-4076-8ced-5cf8f51dd860",
   "metadata": {},
   "outputs": [
    {
     "name": "stdout",
     "output_type": "stream",
     "text": [
      "3.5.0\n"
     ]
    }
   ],
   "source": [
    "from pyspark.sql import SparkSession\n",
    "\n",
    "# Inicializar Spark Session\n",
    "spark = SparkSession.builder \\\n",
    " .appName(\"ETL Pipeline - Bronze to Silver\") \\\n",
    " .config(\"spark.jars\", \"/opt/spark/jars/hadoop-aws-3.3.4.jar,/opt/spark/jars/aws-java-sdk-bundle-1.12.262.jar\") \\\n",
    " .config(\"spark.hadoop.fs.s3a.impl\", \"org.apache.hadoop.fs.s3a.S3AFileSystem\") \\\n",
    " .config(\"spark.hadoop.fs.s3a.connection.maximum\", \"100\") \\\n",
    " .getOrCreate()\n",
    "\n",
    "print(spark.version)"
   ]
  },
  {
   "cell_type": "code",
   "execution_count": 7,
   "id": "59a2feea-cba9-47d5-907f-a7b8e2812110",
   "metadata": {},
   "outputs": [
    {
     "name": "stdout",
     "output_type": "stream",
     "text": [
      "Erro ao acessar o S3: An error occurred while calling o59.text.\n",
      ": java.lang.RuntimeException: java.lang.ClassNotFoundException: Class org.apache.hadoop.fs.s3a.S3AFileSystem not found\n",
      "\tat org.apache.hadoop.conf.Configuration.getClass(Configuration.java:2688)\n",
      "\tat org.apache.hadoop.fs.FileSystem.getFileSystemClass(FileSystem.java:3431)\n",
      "\tat org.apache.hadoop.fs.FileSystem.createFileSystem(FileSystem.java:3466)\n",
      "\tat org.apache.hadoop.fs.FileSystem.access$300(FileSystem.java:174)\n",
      "\tat org.apache.hadoop.fs.FileSystem$Cache.getInternal(FileSystem.java:3574)\n",
      "\tat org.apache.hadoop.fs.FileSystem$Cache.get(FileSystem.java:3521)\n",
      "\tat org.apache.hadoop.fs.FileSystem.get(FileSystem.java:540)\n",
      "\tat org.apache.hadoop.fs.Path.getFileSystem(Path.java:365)\n",
      "\tat org.apache.spark.sql.execution.datasources.DataSource$.$anonfun$checkAndGlobPathIfNecessary$1(DataSource.scala:724)\n",
      "\tat scala.collection.immutable.List.map(List.scala:293)\n",
      "\tat org.apache.spark.sql.execution.datasources.DataSource$.checkAndGlobPathIfNecessary(DataSource.scala:722)\n",
      "\tat org.apache.spark.sql.execution.datasources.DataSource.checkAndGlobPathIfNecessary(DataSource.scala:551)\n",
      "\tat org.apache.spark.sql.execution.datasources.DataSource.resolveRelation(DataSource.scala:404)\n",
      "\tat org.apache.spark.sql.DataFrameReader.loadV1Source(DataFrameReader.scala:229)\n",
      "\tat org.apache.spark.sql.DataFrameReader.$anonfun$load$2(DataFrameReader.scala:211)\n",
      "\tat scala.Option.getOrElse(Option.scala:189)\n",
      "\tat org.apache.spark.sql.DataFrameReader.load(DataFrameReader.scala:211)\n",
      "\tat org.apache.spark.sql.DataFrameReader.text(DataFrameReader.scala:646)\n",
      "\tat java.base/jdk.internal.reflect.NativeMethodAccessorImpl.invoke0(Native Method)\n",
      "\tat java.base/jdk.internal.reflect.NativeMethodAccessorImpl.invoke(NativeMethodAccessorImpl.java:77)\n",
      "\tat java.base/jdk.internal.reflect.DelegatingMethodAccessorImpl.invoke(DelegatingMethodAccessorImpl.java:43)\n",
      "\tat java.base/java.lang.reflect.Method.invoke(Method.java:568)\n",
      "\tat py4j.reflection.MethodInvoker.invoke(MethodInvoker.java:244)\n",
      "\tat py4j.reflection.ReflectionEngine.invoke(ReflectionEngine.java:374)\n",
      "\tat py4j.Gateway.invoke(Gateway.java:282)\n",
      "\tat py4j.commands.AbstractCommand.invokeMethod(AbstractCommand.java:132)\n",
      "\tat py4j.commands.CallCommand.execute(CallCommand.java:79)\n",
      "\tat py4j.ClientServerConnection.waitForCommands(ClientServerConnection.java:182)\n",
      "\tat py4j.ClientServerConnection.run(ClientServerConnection.java:106)\n",
      "\tat java.base/java.lang.Thread.run(Thread.java:833)\n",
      "Caused by: java.lang.ClassNotFoundException: Class org.apache.hadoop.fs.s3a.S3AFileSystem not found\n",
      "\tat org.apache.hadoop.conf.Configuration.getClassByName(Configuration.java:2592)\n",
      "\tat org.apache.hadoop.conf.Configuration.getClass(Configuration.java:2686)\n",
      "\t... 29 more\n",
      "\n"
     ]
    }
   ],
   "source": [
    "s3_path = \"s3a://my-bucket-ry-01/raw-data/ipca/kafka/\"\n",
    "\n",
    "try:\n",
    "    # Tentar ler os arquivos do diretório no S3\n",
    "    files = spark.read.text(s3_path).collect()\n",
    "    print(f\"Arquivos no S3: {len(files)} arquivos encontrados.\")\n",
    "except Exception as e:\n",
    "    print(f\"Erro ao acessar o S3: {e}\")\n"
   ]
  },
  {
   "cell_type": "code",
   "execution_count": 41,
   "id": "564d4118-5395-469a-9a93-1dd88c202283",
   "metadata": {},
   "outputs": [],
   "source": [
    "# Caminho dos dados brutos no S3 (camada Bronze)\n",
    "bronze_path = \"s3a://my-bucket-ry-01/raw-data/ipca/kafka/\""
   ]
  },
  {
   "cell_type": "code",
   "execution_count": 36,
   "id": "29da07bb-db13-4971-9c40-1c79ffd1abb5",
   "metadata": {},
   "outputs": [],
   "source": [
    "# Ler os dados brutos do S3\n",
    "df_bronze = spark.read.json(bronze_path)\n"
   ]
  },
  {
   "cell_type": "code",
   "execution_count": 37,
   "id": "74d2111f-5a31-4edf-b032-a467771f4113",
   "metadata": {},
   "outputs": [
    {
     "name": "stdout",
     "output_type": "stream",
     "text": [
      "+-----------+-------------+---------------+-----------+-------------+------------+----+----------+-------------+---------+\n",
      "|CompraManha|    Data_Base|Data_Vencimento|PUBaseManha|PUCompraManha|PUVendaManha|Tipo|VendaManha|    dt_update|partition|\n",
      "+-----------+-------------+---------------+-----------+-------------+------------+----+----------+-------------+---------+\n",
      "|       5.87|1653868800000|  1723680000000|    3486.89|      3497.07|     3486.89|IPCA|      5.99|1743256494149|        0|\n",
      "|       5.69|1653868800000|  2062800000000|    1911.52|      1940.53|     1911.52|IPCA|      5.81|1743256494150|        0|\n",
      "|       5.37|1648425600000|  2062800000000|    1922.78|      1952.84|     1922.78|IPCA|      5.49|1743256494158|        0|\n",
      "|       5.44|1648166400000|  2378419200000|    1108.45|      1139.19|     1108.45|IPCA|      5.56|1743256494159|        0|\n",
      "|       5.63|1648080000000|  2378419200000|    1062.86|      1091.63|     1062.86|IPCA|      5.75|1743256494166|        0|\n",
      "|       5.62|1642550400000|  1723680000000|    3287.71|      3298.47|     3287.71|IPCA|      5.74|1743256494167|        0|\n",
      "|       5.63|1642377600000|  2378419200000|    1033.45|      1061.48|     1033.45|IPCA|      5.75|1743256494173|        0|\n",
      "|       5.63|1642377600000|  2062800000000|    1804.75|      1832.83|     1804.75|IPCA|      5.75|1743256494174|        0|\n",
      "|       5.62|1642118400000|  2378419200000|    1034.95|      1063.43|     1034.95|IPCA|      5.74|1743256494174|        0|\n",
      "|       5.34|1642118400000|  1786752000000|    2971.29|      2988.99|     2971.29|IPCA|      5.46|1743256494175|        0|\n",
      "|       5.36|1636329600000|  1786752000000|    2877.68|      2894.89|     2877.68|IPCA|      5.48|1743256494176|        0|\n",
      "|       5.32|1636329600000|  2062800000000|    1817.75|      1846.84|     1817.75|IPCA|      5.44|1743256494177|        0|\n",
      "|       4.17|1624492800000|  2062800000000|    1990.49|      2023.18|     1991.19|IPCA|      4.29|1743256494190|        0|\n",
      "|       3.84|1624492800000|  1786752000000|    2916.49|      2934.84|     2917.48|IPCA|      3.96|1743256494191|        0|\n",
      "|       3.57|1621987200000|  1786752000000|    2925.42|      2944.23|     2926.51|IPCA|      3.69|1743256494198|        0|\n",
      "|       4.24|1621987200000|  2378419200000|    1274.68|      1310.73|     1275.19|IPCA|      4.36|1743256494199|        0|\n",
      "|       4.21|1621814400000|  2062800000000|    1957.08|      1989.49|     1957.85|IPCA|      4.33|1743256494207|        0|\n",
      "|       3.53|1621814400000|  1786752000000|    2929.06|      2947.92|     2930.14|IPCA|      3.65|1743256494208|        0|\n",
      "|       3.55|1612483200000|  2062800000000|    2067.14|      2102.37|     2068.04|IPCA|      3.67|1743256494217|        0|\n",
      "|       2.66|1612483200000|  1786752000000|    2966.82|      2987.17|     2968.01|IPCA|      2.78|1743256494218|        0|\n",
      "+-----------+-------------+---------------+-----------+-------------+------------+----+----------+-------------+---------+\n",
      "only showing top 20 rows\n",
      "\n"
     ]
    }
   ],
   "source": [
    "df_bronze.show()"
   ]
  },
  {
   "cell_type": "code",
   "execution_count": 17,
   "id": "f332ceb8-2d89-4d6e-acf1-d633f3dad322",
   "metadata": {},
   "outputs": [],
   "source": [
    "# Transformação para a Camada Silver (Limpeza e Transformação)"
   ]
  },
  {
   "cell_type": "code",
   "execution_count": 24,
   "id": "2b0ea046-4939-4434-aa5c-a87f4c96c476",
   "metadata": {},
   "outputs": [],
   "source": [
    "from pyspark.sql.functions import avg, count, from_unixtime, col"
   ]
  },
  {
   "cell_type": "code",
   "execution_count": 25,
   "id": "854aa73e-4fd8-457a-af44-dfe6d59243c8",
   "metadata": {},
   "outputs": [],
   "source": [
    "# Remover duplicações\n",
    "df_silver = df_bronze.dropDuplicates()"
   ]
  },
  {
   "cell_type": "code",
   "execution_count": 26,
   "id": "c6b65c1e-06d5-41fb-8dd7-1bcb17345500",
   "metadata": {},
   "outputs": [
    {
     "name": "stdout",
     "output_type": "stream",
     "text": [
      "Fim - Tratar timestamps\n"
     ]
    }
   ],
   "source": [
    "# Tratar timestamps e converter para formato de data legível\n",
    "df_silver = df_silver.withColumn(\"Data_Vencimento\", from_unixtime(col(\"Data_Vencimento\") /\n",
    "1000, \"yyyy-MM-dd\")) \\\n",
    " .withColumn(\"Data_Base\", from_unixtime(col(\"Data_Base\") / 1000, \"yyyy-MM-dd\")) \\\n",
    " .withColumn(\"dt_update\", from_unixtime(col(\"dt_update\") / 1000, \"yyyy-MM-dd HH:mm:ss\"))\n",
    "\n",
    "print(\"Fim - Tratar timestamps\")"
   ]
  },
  {
   "cell_type": "code",
   "execution_count": 27,
   "id": "6502d0fd-d0f8-4d90-930d-e9d9e74b091b",
   "metadata": {},
   "outputs": [
    {
     "name": "stdout",
     "output_type": "stream",
     "text": [
      "Fim - Tratar valores nulos\n"
     ]
    }
   ],
   "source": [
    "# Tratar valores nulos (exemplo: preencher com 0)\n",
    "df_silver = df_silver.fillna({\n",
    " \"PUCompraManha\": 0,\n",
    " \"PUVendaManha\": 0,\n",
    " \"PUBaseManha\": 0\n",
    "})\n",
    "\n",
    "print(\"Fim - Tratar valores nulos\")"
   ]
  },
  {
   "cell_type": "code",
   "execution_count": 28,
   "id": "bfc4f203-5199-44fa-8468-9f220919428f",
   "metadata": {},
   "outputs": [
    {
     "name": "stdout",
     "output_type": "stream",
     "text": [
      "+-----------+----------+---------------+-----------+-------------+------------+----+----------+-------------------+---------+\n",
      "|CompraManha| Data_Base|Data_Vencimento|PUBaseManha|PUCompraManha|PUVendaManha|Tipo|VendaManha|          dt_update|partition|\n",
      "+-----------+----------+---------------+-----------+-------------+------------+----+----------+-------------------+---------+\n",
      "|       4.21|2021-05-21|     2045-05-15|    1281.33|      1318.18|     1282.41|IPCA|      4.33|2025-03-29 13:54:54|        0|\n",
      "|       1.91|2021-02-03|     2024-08-15|    3214.85|      3228.73|     3215.42|IPCA|      2.03|2025-03-29 13:54:54|        0|\n",
      "|       5.87|2022-05-30|     2024-08-15|    3486.89|      3497.07|     3486.89|IPCA|      5.99|2025-03-29 13:54:54|        0|\n",
      "|       5.32|2021-11-08|     2035-05-15|    1817.75|      1846.84|     1817.75|IPCA|      5.44|2025-03-29 13:54:54|        0|\n",
      "|       5.44|2022-03-25|     2045-05-15|    1108.45|      1139.19|     1108.45|IPCA|      5.56|2025-03-29 13:54:54|        0|\n",
      "|       3.57|2021-05-26|     2026-08-15|    2925.42|      2944.23|     2926.51|IPCA|      3.69|2025-03-29 13:54:54|        0|\n",
      "|       4.57|2021-08-30|     2035-05-15|    1935.33|      1966.65|     1936.09|IPCA|      4.69|2025-03-29 13:54:54|        0|\n",
      "|       3.57|2021-02-03|     2045-05-15|    1435.62|      1476.76|     1435.96|IPCA|      3.69|2025-03-29 13:54:54|        0|\n",
      "|       2.63|2021-02-03|     2026-08-15|    2970.39|      2990.21|     2970.99|IPCA|      2.75|2025-03-29 13:54:54|        0|\n",
      "|       3.53|2021-05-24|     2026-08-15|    2929.06|      2947.92|     2930.14|IPCA|      3.65|2025-03-29 13:54:54|        0|\n",
      "|       2.84|2021-05-20|     2024-08-15|    3212.07|      3225.27|     3213.16|IPCA|      2.96|2025-03-29 13:54:54|        0|\n",
      "|       4.17|2021-06-24|     2035-05-15|    1990.49|      2023.18|     1991.19|IPCA|      4.29|2025-03-29 13:54:54|        0|\n",
      "|       4.17|2021-05-14|     2045-05-15|    1290.18|      1327.17|     1291.11|IPCA|      4.29|2025-03-29 13:54:54|        0|\n",
      "|       5.34|2022-01-14|     2026-08-15|    2971.29|      2988.99|     2971.29|IPCA|      5.46|2025-03-29 13:54:54|        0|\n",
      "|       4.75|2021-08-24|     2045-05-15|    1173.83|      1206.48|     1174.26|IPCA|      4.87|2025-03-29 13:54:54|        0|\n",
      "|       2.82|2021-05-14|     2024-08-15|    3208.66|      3222.97|     3210.81|IPCA|      2.94|2025-03-29 13:54:54|        0|\n",
      "|       4.36|2021-08-30|     2026-08-15|    2913.23|      2930.98|     2914.36|IPCA|      4.48|2025-03-29 13:54:54|        0|\n",
      "|       3.51|2021-02-04|     2035-05-15|    2078.02|      2113.04|     2078.52|IPCA|      3.63|2025-03-29 13:54:54|        0|\n",
      "|       4.17|2021-05-14|     2035-05-15|    1961.42|      1994.62|     1962.83|IPCA|      4.29|2025-03-29 13:54:54|        0|\n",
      "|       5.37|2022-03-28|     2035-05-15|    1922.78|      1952.84|     1922.78|IPCA|      5.49|2025-03-29 13:54:54|        0|\n",
      "+-----------+----------+---------------+-----------+-------------+------------+----+----------+-------------------+---------+\n",
      "only showing top 20 rows\n",
      "\n"
     ]
    }
   ],
   "source": [
    "# Exibir os dados da camada Silver\n",
    "df_silver.show()"
   ]
  },
  {
   "cell_type": "code",
   "execution_count": 29,
   "id": "6d6466fb-e9ea-4712-9c65-2b1e6a2acf29",
   "metadata": {},
   "outputs": [
    {
     "name": "stdout",
     "output_type": "stream",
     "text": [
      "Fim - Salvar camada Silver no S3\n"
     ]
    }
   ],
   "source": [
    "# Salvar a camada Silver de volta no S3\n",
    "silver_path = \"s3a://my-bucket-desafio-edu-01/processed-data/ipca/silver/\"\n",
    "df_silver.write.mode(\"overwrite\").parquet(silver_path)\n",
    "\n",
    "print(\"Fim - Salvar camada Silver no S3\")"
   ]
  },
  {
   "cell_type": "code",
   "execution_count": 31,
   "id": "8de53d68-9444-48f0-800b-7cf1f5b49c8c",
   "metadata": {},
   "outputs": [],
   "source": [
    "# Transformação para a Camada Gold (Agregação e Enriquecimento)"
   ]
  },
  {
   "cell_type": "code",
   "execution_count": 32,
   "id": "e090791d-10b9-4fb9-b6b4-549c923baba3",
   "metadata": {},
   "outputs": [],
   "source": [
    "from pyspark.sql.functions import avg, count"
   ]
  },
  {
   "cell_type": "code",
   "execution_count": 33,
   "id": "7ea6fc50-7d69-496c-bb43-2be809d5bf24",
   "metadata": {},
   "outputs": [],
   "source": [
    "# Calcular métricas agregadas\n",
    "df_gold = df_silver.groupBy(\"Tipo\").agg(\n",
    " avg(\"PUCompraManha\").alias(\"Media_PUCompraManha\"),\n",
    " avg(\"PUVendaManha\").alias(\"Media_PUVendaManha\"),\n",
    " count(\"*\").alias(\"Total_Registros\")\n",
    ")"
   ]
  },
  {
   "cell_type": "code",
   "execution_count": 34,
   "id": "d521565a-7d26-4ae2-af06-4cd67fb68cc9",
   "metadata": {},
   "outputs": [
    {
     "name": "stdout",
     "output_type": "stream",
     "text": [
      "+----+-------------------+------------------+---------------+\n",
      "|Tipo|Media_PUCompraManha|Media_PUVendaManha|Total_Registros|\n",
      "+----+-------------------+------------------+---------------+\n",
      "|IPCA|  2362.883066666666|2339.0757333333336|            150|\n",
      "+----+-------------------+------------------+---------------+\n",
      "\n"
     ]
    }
   ],
   "source": [
    "# Exibir os dados agregados (Gold)\n",
    "df_gold.show()"
   ]
  },
  {
   "cell_type": "code",
   "execution_count": 35,
   "id": "002e7f71-f736-49b5-95bf-eef3e849bd50",
   "metadata": {},
   "outputs": [],
   "source": [
    "# Salvar a camada Gold no S3\n",
    "gold_path = \"s3a://my-bucket-desafio-edu-01/analytics/ipca/gold/\"\n",
    "df_gold.write.mode(\"overwrite\").parquet(gold_path)"
   ]
  },
  {
   "cell_type": "code",
   "execution_count": null,
   "id": "4f20ba37-19f0-4566-bf72-5585babd1829",
   "metadata": {},
   "outputs": [],
   "source": []
  }
 ],
 "metadata": {
  "kernelspec": {
   "display_name": "Python 3 (ipykernel)",
   "language": "python",
   "name": "python3"
  },
  "language_info": {
   "codemirror_mode": {
    "name": "ipython",
    "version": 3
   },
   "file_extension": ".py",
   "mimetype": "text/x-python",
   "name": "python",
   "nbconvert_exporter": "python",
   "pygments_lexer": "ipython3",
   "version": "3.11.6"
  }
 },
 "nbformat": 4,
 "nbformat_minor": 5
}
